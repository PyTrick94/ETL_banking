{
 "cells": [
  {
   "cell_type": "code",
   "execution_count": 161,
   "id": "40b8c581",
   "metadata": {},
   "outputs": [],
   "source": [
    "import glob\n",
    "import pandas as pd\n",
    "from datetime import datetime\n",
    "import requests\n",
    "import json"
   ]
  },
  {
   "cell_type": "code",
   "execution_count": 162,
   "id": "206f2159",
   "metadata": {},
   "outputs": [],
   "source": [
    "working_path = r\"C:\\Users\\r2d2\\Desktop\\Data Engineering\\coursera_sources\\5_excercise - Peer Review  Assignment\""
   ]
  },
  {
   "cell_type": "code",
   "execution_count": 163,
   "id": "e2b40a0e",
   "metadata": {},
   "outputs": [],
   "source": [
    "# Using source data from local machine\n",
    "r1 = requests.get(\"https://cf-courses-data.s3.us.cloud-object-storage.appdomain.cloud/IBMDeveloperSkillsNetwork-PY0221EN-SkillsNetwork/labs/module%206/Lab%20-%20Extract%20Transform%20Load/data/bank_market_cap_1.json\")\n",
    "r2 = requests.get(\"https://cf-courses-data.s3.us.cloud-object-storage.appdomain.cloud/IBMDeveloperSkillsNetwork-PY0221EN-SkillsNetwork/labs/module%206/Lab%20-%20Extract%20Transform%20Load/data/bank_market_cap_2.json\")\n",
    "csv_url = \"https://cf-courses-data.s3.us.cloud-object-storage.appdomain.cloud/IBMDeveloperSkillsNetwork-PY0221EN-SkillsNetwork/labs/module%206/Final%20Assignment/exchange_rates.csv\""
   ]
  },
  {
   "cell_type": "code",
   "execution_count": 164,
   "id": "fc695d32",
   "metadata": {},
   "outputs": [],
   "source": [
    "bank_market_cap_1_json = r1.json()\n",
    "bank_market_cap_2_json = r2.json()\n",
    "exchange_rates_csv = pd.read_csv(csv_url)\n",
    "\n",
    "with open(working_path + \"/bank_market_cap_1.json\", \"w\") as f:\n",
    "    json.dump(bank_market_cap_1_json, f)\n",
    "    \n",
    "with open(working_path + \"/bank_market_cap_2.json\", \"w\") as f:\n",
    "    json.dump(bank_market_cap_2_json, f)"
   ]
  },
  {
   "cell_type": "markdown",
   "id": "a8c31080",
   "metadata": {},
   "source": [
    "# Excercise 1 - create Extract JSON function"
   ]
  },
  {
   "cell_type": "code",
   "execution_count": 165,
   "id": "dceb44b7",
   "metadata": {},
   "outputs": [],
   "source": [
    "def extract_json(file):\n",
    "    dataframe = pd.read_json(file)\n",
    "    return dataframe"
   ]
  },
  {
   "cell_type": "code",
   "execution_count": 166,
   "id": "36ad4ac6",
   "metadata": {},
   "outputs": [],
   "source": [
    "def extract():\n",
    "    extracted_data = pd.DataFrame(columns=['Name','Market Cap (US$ Billion)'])\n",
    "    \n",
    "    for json_file in glob.glob(r\"C:\\Users\\r2d2\\Desktop\\Data Engineering\\coursera_sources\\5_excercise - Peer Review  Assignment\\*.json\"):\n",
    "        extracted_data = extracted_data.append(extract_json(json_file), ignore_index=True)\n",
    "        \n",
    "    return extracted_data"
   ]
  },
  {
   "cell_type": "markdown",
   "id": "3dd393ec",
   "metadata": {},
   "source": [
    "# Excercise 2"
   ]
  },
  {
   "cell_type": "code",
   "execution_count": 167,
   "id": "d91e63e0",
   "metadata": {},
   "outputs": [
    {
     "data": {
      "text/html": [
       "<div>\n",
       "<style scoped>\n",
       "    .dataframe tbody tr th:only-of-type {\n",
       "        vertical-align: middle;\n",
       "    }\n",
       "\n",
       "    .dataframe tbody tr th {\n",
       "        vertical-align: top;\n",
       "    }\n",
       "\n",
       "    .dataframe thead th {\n",
       "        text-align: right;\n",
       "    }\n",
       "</style>\n",
       "<table border=\"1\" class=\"dataframe\">\n",
       "  <thead>\n",
       "    <tr style=\"text-align: right;\">\n",
       "      <th></th>\n",
       "      <th>Name</th>\n",
       "      <th>Market Cap (US$ Billion)</th>\n",
       "    </tr>\n",
       "  </thead>\n",
       "  <tbody>\n",
       "    <tr>\n",
       "      <th>0</th>\n",
       "      <td>JPMorgan Chase</td>\n",
       "      <td>390.934</td>\n",
       "    </tr>\n",
       "    <tr>\n",
       "      <th>1</th>\n",
       "      <td>Industrial and Commercial Bank of China</td>\n",
       "      <td>345.214</td>\n",
       "    </tr>\n",
       "    <tr>\n",
       "      <th>2</th>\n",
       "      <td>Bank of America</td>\n",
       "      <td>325.331</td>\n",
       "    </tr>\n",
       "    <tr>\n",
       "      <th>3</th>\n",
       "      <td>Wells Fargo</td>\n",
       "      <td>308.013</td>\n",
       "    </tr>\n",
       "    <tr>\n",
       "      <th>4</th>\n",
       "      <td>China Construction Bank</td>\n",
       "      <td>257.399</td>\n",
       "    </tr>\n",
       "    <tr>\n",
       "      <th>...</th>\n",
       "      <td>...</td>\n",
       "      <td>...</td>\n",
       "    </tr>\n",
       "    <tr>\n",
       "      <th>100</th>\n",
       "      <td>Ping An Bank</td>\n",
       "      <td>37.993</td>\n",
       "    </tr>\n",
       "    <tr>\n",
       "      <th>101</th>\n",
       "      <td>Standard Chartered</td>\n",
       "      <td>37.319</td>\n",
       "    </tr>\n",
       "    <tr>\n",
       "      <th>102</th>\n",
       "      <td>United Overseas Bank</td>\n",
       "      <td>35.128</td>\n",
       "    </tr>\n",
       "    <tr>\n",
       "      <th>103</th>\n",
       "      <td>QNB Group</td>\n",
       "      <td>33.560</td>\n",
       "    </tr>\n",
       "    <tr>\n",
       "      <th>104</th>\n",
       "      <td>Bank Rakyat</td>\n",
       "      <td>33.081</td>\n",
       "    </tr>\n",
       "  </tbody>\n",
       "</table>\n",
       "<p>105 rows × 2 columns</p>\n",
       "</div>"
      ],
      "text/plain": [
       "                                        Name  Market Cap (US$ Billion)\n",
       "0                             JPMorgan Chase                   390.934\n",
       "1    Industrial and Commercial Bank of China                   345.214\n",
       "2                            Bank of America                   325.331\n",
       "3                                Wells Fargo                   308.013\n",
       "4                    China Construction Bank                   257.399\n",
       "..                                       ...                       ...\n",
       "100                             Ping An Bank                    37.993\n",
       "101                       Standard Chartered                    37.319\n",
       "102                     United Overseas Bank                    35.128\n",
       "103                                QNB Group                    33.560\n",
       "104                              Bank Rakyat                    33.081\n",
       "\n",
       "[105 rows x 2 columns]"
      ]
     },
     "execution_count": 167,
     "metadata": {},
     "output_type": "execute_result"
    }
   ],
   "source": [
    "extracted_data = extract()\n",
    "extracted_data"
   ]
  },
  {
   "cell_type": "code",
   "execution_count": 168,
   "id": "b1fa8643",
   "metadata": {
    "collapsed": true
   },
   "outputs": [
    {
     "data": {
      "text/html": [
       "<div>\n",
       "<style scoped>\n",
       "    .dataframe tbody tr th:only-of-type {\n",
       "        vertical-align: middle;\n",
       "    }\n",
       "\n",
       "    .dataframe tbody tr th {\n",
       "        vertical-align: top;\n",
       "    }\n",
       "\n",
       "    .dataframe thead th {\n",
       "        text-align: right;\n",
       "    }\n",
       "</style>\n",
       "<table border=\"1\" class=\"dataframe\">\n",
       "  <thead>\n",
       "    <tr style=\"text-align: right;\">\n",
       "      <th></th>\n",
       "      <th>Rates</th>\n",
       "    </tr>\n",
       "  </thead>\n",
       "  <tbody>\n",
       "    <tr>\n",
       "      <th>AUD</th>\n",
       "      <td>1.297088</td>\n",
       "    </tr>\n",
       "    <tr>\n",
       "      <th>BGN</th>\n",
       "      <td>1.608653</td>\n",
       "    </tr>\n",
       "    <tr>\n",
       "      <th>BRL</th>\n",
       "      <td>5.409196</td>\n",
       "    </tr>\n",
       "    <tr>\n",
       "      <th>CAD</th>\n",
       "      <td>1.271426</td>\n",
       "    </tr>\n",
       "    <tr>\n",
       "      <th>CHF</th>\n",
       "      <td>0.886083</td>\n",
       "    </tr>\n",
       "    <tr>\n",
       "      <th>CNY</th>\n",
       "      <td>6.483139</td>\n",
       "    </tr>\n",
       "    <tr>\n",
       "      <th>CZK</th>\n",
       "      <td>21.510117</td>\n",
       "    </tr>\n",
       "    <tr>\n",
       "      <th>DKK</th>\n",
       "      <td>6.119757</td>\n",
       "    </tr>\n",
       "    <tr>\n",
       "      <th>EUR</th>\n",
       "      <td>0.822504</td>\n",
       "    </tr>\n",
       "    <tr>\n",
       "      <th>GBP</th>\n",
       "      <td>0.732398</td>\n",
       "    </tr>\n",
       "    <tr>\n",
       "      <th>HKD</th>\n",
       "      <td>7.752509</td>\n",
       "    </tr>\n",
       "    <tr>\n",
       "      <th>HRK</th>\n",
       "      <td>6.222652</td>\n",
       "    </tr>\n",
       "    <tr>\n",
       "      <th>HUF</th>\n",
       "      <td>294.135549</td>\n",
       "    </tr>\n",
       "    <tr>\n",
       "      <th>IDR</th>\n",
       "      <td>14097.902616</td>\n",
       "    </tr>\n",
       "    <tr>\n",
       "      <th>ILS</th>\n",
       "      <td>3.281132</td>\n",
       "    </tr>\n",
       "    <tr>\n",
       "      <th>INR</th>\n",
       "      <td>73.011186</td>\n",
       "    </tr>\n",
       "    <tr>\n",
       "      <th>ISK</th>\n",
       "      <td>129.133081</td>\n",
       "    </tr>\n",
       "    <tr>\n",
       "      <th>JPY</th>\n",
       "      <td>103.791742</td>\n",
       "    </tr>\n",
       "    <tr>\n",
       "      <th>KRW</th>\n",
       "      <td>1105.839776</td>\n",
       "    </tr>\n",
       "    <tr>\n",
       "      <th>MXN</th>\n",
       "      <td>19.932966</td>\n",
       "    </tr>\n",
       "    <tr>\n",
       "      <th>MYR</th>\n",
       "      <td>4.043017</td>\n",
       "    </tr>\n",
       "    <tr>\n",
       "      <th>NOK</th>\n",
       "      <td>8.497121</td>\n",
       "    </tr>\n",
       "    <tr>\n",
       "      <th>NZD</th>\n",
       "      <td>1.393733</td>\n",
       "    </tr>\n",
       "    <tr>\n",
       "      <th>PHP</th>\n",
       "      <td>48.070406</td>\n",
       "    </tr>\n",
       "    <tr>\n",
       "      <th>PLN</th>\n",
       "      <td>3.732933</td>\n",
       "    </tr>\n",
       "    <tr>\n",
       "      <th>RON</th>\n",
       "      <td>4.008883</td>\n",
       "    </tr>\n",
       "    <tr>\n",
       "      <th>RUB</th>\n",
       "      <td>74.930827</td>\n",
       "    </tr>\n",
       "    <tr>\n",
       "      <th>SEK</th>\n",
       "      <td>8.292071</td>\n",
       "    </tr>\n",
       "    <tr>\n",
       "      <th>SGD</th>\n",
       "      <td>1.328261</td>\n",
       "    </tr>\n",
       "    <tr>\n",
       "      <th>THB</th>\n",
       "      <td>30.009870</td>\n",
       "    </tr>\n",
       "    <tr>\n",
       "      <th>TRY</th>\n",
       "      <td>7.418572</td>\n",
       "    </tr>\n",
       "    <tr>\n",
       "      <th>USD</th>\n",
       "      <td>1.000000</td>\n",
       "    </tr>\n",
       "    <tr>\n",
       "      <th>ZAR</th>\n",
       "      <td>15.118441</td>\n",
       "    </tr>\n",
       "  </tbody>\n",
       "</table>\n",
       "</div>"
      ],
      "text/plain": [
       "            Rates\n",
       "AUD      1.297088\n",
       "BGN      1.608653\n",
       "BRL      5.409196\n",
       "CAD      1.271426\n",
       "CHF      0.886083\n",
       "CNY      6.483139\n",
       "CZK     21.510117\n",
       "DKK      6.119757\n",
       "EUR      0.822504\n",
       "GBP      0.732398\n",
       "HKD      7.752509\n",
       "HRK      6.222652\n",
       "HUF    294.135549\n",
       "IDR  14097.902616\n",
       "ILS      3.281132\n",
       "INR     73.011186\n",
       "ISK    129.133081\n",
       "JPY    103.791742\n",
       "KRW   1105.839776\n",
       "MXN     19.932966\n",
       "MYR      4.043017\n",
       "NOK      8.497121\n",
       "NZD      1.393733\n",
       "PHP     48.070406\n",
       "PLN      3.732933\n",
       "RON      4.008883\n",
       "RUB     74.930827\n",
       "SEK      8.292071\n",
       "SGD      1.328261\n",
       "THB     30.009870\n",
       "TRY      7.418572\n",
       "USD      1.000000\n",
       "ZAR     15.118441"
      ]
     },
     "execution_count": 168,
     "metadata": {},
     "output_type": "execute_result"
    }
   ],
   "source": [
    "exchange_rates_csv = pd.read_csv(csv_url,index_col=0) # index_col=0 to not user first index column\n",
    "# exchange_rates_csv.set_axis([\"Country\",\"Rates\"], axis=1, inplace=True) # to work delete index_col=0\n",
    "# exchange_rate = exchange_rates_csv.loc[exchange_rates_csv[\"Country\"]==\"GBP\"] #withous index_col=0 u can select GBP like this\n",
    "exchange_rates_csv"
   ]
  },
  {
   "cell_type": "markdown",
   "id": "dae4c243",
   "metadata": {},
   "source": [
    "# Select GBP row"
   ]
  },
  {
   "cell_type": "code",
   "execution_count": 169,
   "id": "bc0c76c7",
   "metadata": {},
   "outputs": [],
   "source": [
    "exchange_rate = exchange_rates_csv.loc[\"GBP\"]"
   ]
  },
  {
   "cell_type": "code",
   "execution_count": 170,
   "id": "05b18cf9",
   "metadata": {},
   "outputs": [
    {
     "data": {
      "text/plain": [
       "Rates    0.732398\n",
       "Name: GBP, dtype: float64"
      ]
     },
     "execution_count": 170,
     "metadata": {},
     "output_type": "execute_result"
    }
   ],
   "source": [
    "exchange_rate"
   ]
  },
  {
   "cell_type": "markdown",
   "id": "005faf0e",
   "metadata": {},
   "source": [
    "# Excercise 3"
   ]
  },
  {
   "cell_type": "code",
   "execution_count": 171,
   "id": "51522923",
   "metadata": {},
   "outputs": [],
   "source": [
    "def transform(data):\n",
    "    data[\"Market Cap (US$ Billion)\"] = round(data[\"Market Cap (US$ Billion)\"]*exchange_rate[0], 3)\n",
    "    data.rename(columns = {\"Market Cap (US$ Billion)\":\"Market Cap (GBP$ Billion)\"}, inplace=True)\n",
    "    return data"
   ]
  },
  {
   "cell_type": "code",
   "execution_count": 172,
   "id": "5ec0c682",
   "metadata": {},
   "outputs": [],
   "source": [
    "transformed_data = transform(extracted_data)"
   ]
  },
  {
   "cell_type": "code",
   "execution_count": 173,
   "id": "e2ce2282",
   "metadata": {
    "collapsed": true
   },
   "outputs": [
    {
     "data": {
      "text/html": [
       "<div>\n",
       "<style scoped>\n",
       "    .dataframe tbody tr th:only-of-type {\n",
       "        vertical-align: middle;\n",
       "    }\n",
       "\n",
       "    .dataframe tbody tr th {\n",
       "        vertical-align: top;\n",
       "    }\n",
       "\n",
       "    .dataframe thead th {\n",
       "        text-align: right;\n",
       "    }\n",
       "</style>\n",
       "<table border=\"1\" class=\"dataframe\">\n",
       "  <thead>\n",
       "    <tr style=\"text-align: right;\">\n",
       "      <th></th>\n",
       "      <th>Name</th>\n",
       "      <th>Market Cap (GBP$ Billion)</th>\n",
       "    </tr>\n",
       "  </thead>\n",
       "  <tbody>\n",
       "    <tr>\n",
       "      <th>0</th>\n",
       "      <td>JPMorgan Chase</td>\n",
       "      <td>286.319</td>\n",
       "    </tr>\n",
       "    <tr>\n",
       "      <th>1</th>\n",
       "      <td>Industrial and Commercial Bank of China</td>\n",
       "      <td>252.834</td>\n",
       "    </tr>\n",
       "    <tr>\n",
       "      <th>2</th>\n",
       "      <td>Bank of America</td>\n",
       "      <td>238.272</td>\n",
       "    </tr>\n",
       "    <tr>\n",
       "      <th>3</th>\n",
       "      <td>Wells Fargo</td>\n",
       "      <td>225.588</td>\n",
       "    </tr>\n",
       "    <tr>\n",
       "      <th>4</th>\n",
       "      <td>China Construction Bank</td>\n",
       "      <td>188.519</td>\n",
       "    </tr>\n",
       "    <tr>\n",
       "      <th>...</th>\n",
       "      <td>...</td>\n",
       "      <td>...</td>\n",
       "    </tr>\n",
       "    <tr>\n",
       "      <th>100</th>\n",
       "      <td>Ping An Bank</td>\n",
       "      <td>27.826</td>\n",
       "    </tr>\n",
       "    <tr>\n",
       "      <th>101</th>\n",
       "      <td>Standard Chartered</td>\n",
       "      <td>27.332</td>\n",
       "    </tr>\n",
       "    <tr>\n",
       "      <th>102</th>\n",
       "      <td>United Overseas Bank</td>\n",
       "      <td>25.728</td>\n",
       "    </tr>\n",
       "    <tr>\n",
       "      <th>103</th>\n",
       "      <td>QNB Group</td>\n",
       "      <td>24.579</td>\n",
       "    </tr>\n",
       "    <tr>\n",
       "      <th>104</th>\n",
       "      <td>Bank Rakyat</td>\n",
       "      <td>24.228</td>\n",
       "    </tr>\n",
       "  </tbody>\n",
       "</table>\n",
       "<p>105 rows × 2 columns</p>\n",
       "</div>"
      ],
      "text/plain": [
       "                                        Name  Market Cap (GBP$ Billion)\n",
       "0                             JPMorgan Chase                    286.319\n",
       "1    Industrial and Commercial Bank of China                    252.834\n",
       "2                            Bank of America                    238.272\n",
       "3                                Wells Fargo                    225.588\n",
       "4                    China Construction Bank                    188.519\n",
       "..                                       ...                        ...\n",
       "100                             Ping An Bank                     27.826\n",
       "101                       Standard Chartered                     27.332\n",
       "102                     United Overseas Bank                     25.728\n",
       "103                                QNB Group                     24.579\n",
       "104                              Bank Rakyat                     24.228\n",
       "\n",
       "[105 rows x 2 columns]"
      ]
     },
     "execution_count": 173,
     "metadata": {},
     "output_type": "execute_result"
    }
   ],
   "source": [
    "transformed_data"
   ]
  },
  {
   "cell_type": "markdown",
   "id": "38ccb585",
   "metadata": {},
   "source": [
    "# Excercise 4 "
   ]
  },
  {
   "cell_type": "code",
   "execution_count": 174,
   "id": "72e49d4b",
   "metadata": {},
   "outputs": [],
   "source": [
    "def load(target_file, data_to_load):\n",
    "    data_to_load.to_csv(target_file, index=False)"
   ]
  },
  {
   "cell_type": "markdown",
   "id": "3a7bb53b",
   "metadata": {},
   "source": [
    "# Excercise 5"
   ]
  },
  {
   "cell_type": "code",
   "execution_count": 175,
   "id": "262d33f7",
   "metadata": {},
   "outputs": [],
   "source": [
    "def log(message):\n",
    "    timestamp_format = \"%Y-%h-%d-%H:%M:%S\"\n",
    "    now = datetime.now()\n",
    "    timestamp = now.strftime(timestamp_format)\n",
    "    with open(working_path + '/logging.txt', \"a\") as f:\n",
    "        f.write(timestamp + \",\" + message + \"\\n\")"
   ]
  },
  {
   "cell_type": "code",
   "execution_count": 176,
   "id": "52e215ee",
   "metadata": {},
   "outputs": [
    {
     "data": {
      "text/html": [
       "<div>\n",
       "<style scoped>\n",
       "    .dataframe tbody tr th:only-of-type {\n",
       "        vertical-align: middle;\n",
       "    }\n",
       "\n",
       "    .dataframe tbody tr th {\n",
       "        vertical-align: top;\n",
       "    }\n",
       "\n",
       "    .dataframe thead th {\n",
       "        text-align: right;\n",
       "    }\n",
       "</style>\n",
       "<table border=\"1\" class=\"dataframe\">\n",
       "  <thead>\n",
       "    <tr style=\"text-align: right;\">\n",
       "      <th></th>\n",
       "      <th>Name</th>\n",
       "      <th>Market Cap (US$ Billion)</th>\n",
       "    </tr>\n",
       "  </thead>\n",
       "  <tbody>\n",
       "    <tr>\n",
       "      <th>0</th>\n",
       "      <td>JPMorgan Chase</td>\n",
       "      <td>390.934</td>\n",
       "    </tr>\n",
       "    <tr>\n",
       "      <th>1</th>\n",
       "      <td>Industrial and Commercial Bank of China</td>\n",
       "      <td>345.214</td>\n",
       "    </tr>\n",
       "    <tr>\n",
       "      <th>2</th>\n",
       "      <td>Bank of America</td>\n",
       "      <td>325.331</td>\n",
       "    </tr>\n",
       "    <tr>\n",
       "      <th>3</th>\n",
       "      <td>Wells Fargo</td>\n",
       "      <td>308.013</td>\n",
       "    </tr>\n",
       "    <tr>\n",
       "      <th>4</th>\n",
       "      <td>China Construction Bank</td>\n",
       "      <td>257.399</td>\n",
       "    </tr>\n",
       "  </tbody>\n",
       "</table>\n",
       "</div>"
      ],
      "text/plain": [
       "                                      Name  Market Cap (US$ Billion)\n",
       "0                           JPMorgan Chase                   390.934\n",
       "1  Industrial and Commercial Bank of China                   345.214\n",
       "2                          Bank of America                   325.331\n",
       "3                              Wells Fargo                   308.013\n",
       "4                  China Construction Bank                   257.399"
      ]
     },
     "execution_count": 176,
     "metadata": {},
     "output_type": "execute_result"
    }
   ],
   "source": [
    "extracted_data = extract()\n",
    "extracted_data.head()"
   ]
  },
  {
   "cell_type": "code",
   "execution_count": 177,
   "id": "45a932f9",
   "metadata": {},
   "outputs": [],
   "source": [
    "log(\"Extract phase Ended\")"
   ]
  },
  {
   "cell_type": "code",
   "execution_count": 178,
   "id": "f5697cde",
   "metadata": {},
   "outputs": [],
   "source": [
    "# Write your code here\n",
    "log(\"Transform phase Started\")"
   ]
  },
  {
   "cell_type": "code",
   "execution_count": 179,
   "id": "18a574c6",
   "metadata": {},
   "outputs": [
    {
     "data": {
      "text/html": [
       "<div>\n",
       "<style scoped>\n",
       "    .dataframe tbody tr th:only-of-type {\n",
       "        vertical-align: middle;\n",
       "    }\n",
       "\n",
       "    .dataframe tbody tr th {\n",
       "        vertical-align: top;\n",
       "    }\n",
       "\n",
       "    .dataframe thead th {\n",
       "        text-align: right;\n",
       "    }\n",
       "</style>\n",
       "<table border=\"1\" class=\"dataframe\">\n",
       "  <thead>\n",
       "    <tr style=\"text-align: right;\">\n",
       "      <th></th>\n",
       "      <th>Name</th>\n",
       "      <th>Market Cap (GBP$ Billion)</th>\n",
       "    </tr>\n",
       "  </thead>\n",
       "  <tbody>\n",
       "    <tr>\n",
       "      <th>0</th>\n",
       "      <td>JPMorgan Chase</td>\n",
       "      <td>286.319</td>\n",
       "    </tr>\n",
       "    <tr>\n",
       "      <th>1</th>\n",
       "      <td>Industrial and Commercial Bank of China</td>\n",
       "      <td>252.834</td>\n",
       "    </tr>\n",
       "    <tr>\n",
       "      <th>2</th>\n",
       "      <td>Bank of America</td>\n",
       "      <td>238.272</td>\n",
       "    </tr>\n",
       "    <tr>\n",
       "      <th>3</th>\n",
       "      <td>Wells Fargo</td>\n",
       "      <td>225.588</td>\n",
       "    </tr>\n",
       "    <tr>\n",
       "      <th>4</th>\n",
       "      <td>China Construction Bank</td>\n",
       "      <td>188.519</td>\n",
       "    </tr>\n",
       "  </tbody>\n",
       "</table>\n",
       "</div>"
      ],
      "text/plain": [
       "                                      Name  Market Cap (GBP$ Billion)\n",
       "0                           JPMorgan Chase                    286.319\n",
       "1  Industrial and Commercial Bank of China                    252.834\n",
       "2                          Bank of America                    238.272\n",
       "3                              Wells Fargo                    225.588\n",
       "4                  China Construction Bank                    188.519"
      ]
     },
     "execution_count": 179,
     "metadata": {},
     "output_type": "execute_result"
    }
   ],
   "source": [
    "transformed_data = transform(extracted_data)\n",
    "transfomed_data.head()"
   ]
  },
  {
   "cell_type": "code",
   "execution_count": 180,
   "id": "5b6a1735",
   "metadata": {},
   "outputs": [],
   "source": [
    "\n",
    "log(\"Load phase Started\")"
   ]
  },
  {
   "cell_type": "code",
   "execution_count": 181,
   "id": "c1b39268",
   "metadata": {},
   "outputs": [],
   "source": [
    "\n",
    "target_file = r\"C:\\Users\\r2d2\\Desktop\\Data Engineering\\coursera_sources\\5_excercise - Peer Review  Assignment\\final.csv\"\n",
    "load(target_file, transformed_data)"
   ]
  },
  {
   "cell_type": "code",
   "execution_count": 182,
   "id": "add02ae6",
   "metadata": {},
   "outputs": [],
   "source": [
    "log(\"Load phase Ended\")"
   ]
  }
 ],
 "metadata": {
  "kernelspec": {
   "display_name": "Python 3 (ipykernel)",
   "language": "python",
   "name": "python3"
  },
  "language_info": {
   "codemirror_mode": {
    "name": "ipython",
    "version": 3
   },
   "file_extension": ".py",
   "mimetype": "text/x-python",
   "name": "python",
   "nbconvert_exporter": "python",
   "pygments_lexer": "ipython3",
   "version": "3.8.7"
  }
 },
 "nbformat": 4,
 "nbformat_minor": 5
}
